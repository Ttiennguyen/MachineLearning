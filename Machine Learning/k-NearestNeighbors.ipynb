{
 "cells": [
  {
   "cell_type": "code",
   "execution_count": 1,
   "metadata": {},
   "outputs": [
    {
     "name": "stdout",
     "output_type": "stream",
     "text": [
      "(19, 2) (19,)\n",
      "(2, 2) (2,)\n"
     ]
    }
   ],
   "source": [
    "#training test\n",
    "p1 = [4, 1.0]\n",
    "p2 = [4, 2.5]\n",
    "p3 = [4, 3.0]\n",
    "p4 = [5, 0.5]\n",
    "p5 = [5, 0.8]\n",
    "p6 = [5, 2.0]\n",
    "p7 = [5, 2.5]\n",
    "p8 = [6, 0.4]\n",
    "p9 = [6, 1.8]\n",
    "p10 = [7, 0.2]\n",
    "p11 = [7, 0.3]\n",
    "p12 = [7, 0.4]\n",
    "p13 = [7, 1.0]\n",
    "p14 = [8, 0.1]\n",
    "p15 = [8, 0.2]\n",
    "p16 = [8, 1.0]\n",
    "p17 = [8, 2.0]\n",
    "p18 = [9, 0.5]\n",
    "p19 = [10, 1.0]\n",
    "\n",
    "import numpy as np\n",
    "X = np.array([p1, p2, p3, p4, p5, p6, p7, p8, p9, p10, p11, p12, p13, p14, p15, p16, p17, p18, p19])\n",
    "y = np.array([0, 1, 1, 0, 0, 1, 1, 0, 1, 0, 0, 0, 1, 0, 0, 1, 1, 1, 1])\n",
    "\n",
    "print(X.shape, y.shape)\n",
    "\n",
    "#testing set\n",
    "p20 =[6, 1.1]\n",
    "p21 =[7, 1.5]\n",
    "\n",
    "X_test = np.array([p20, p21])\n",
    "y_test = np.array([1, 1])\n",
    "print(X_test.shape, y_test.shape)"
   ]
  },
  {
   "cell_type": "code",
   "execution_count": 3,
   "metadata": {},
   "outputs": [
    {
     "name": "stdout",
     "output_type": "stream",
     "text": [
      "[1 1]\n",
      "1.0\n",
      "1.0\n",
      "[[0.23420051 0.76579949]\n",
      " [0.00236604 0.99763396]]\n"
     ]
    }
   ],
   "source": [
    "#training \n",
    "from sklearn import naive_bayes\n",
    "model = naive_bayes.GaussianNB()\n",
    "model.fit(X,y)\n",
    "#evaluation\n",
    "from sklearn import metrics\n",
    "y_test_hat = model.predict(X_test)\n",
    "print(y_test_hat)\n",
    "print(metrics.accuracy_score(y_test,y_test_hat))\n",
    "print(metrics.f1_score(y_test,y_test_hat))\n",
    "print(model.predict_proba(X_test))\n"
   ]
  },
  {
   "cell_type": "code",
   "execution_count": 4,
   "metadata": {},
   "outputs": [
    {
     "data": {
      "image/png": "[encoded data removed]",
      "text/plain": [
       "<Figure size 640x480 with 1 Axes>"
      ]
     },
     "metadata": {},
     "output_type": "display_data"
    }
   ],
   "source": [
    "#visualize of confusion matrix\n",
    "import matplotlib.pyplot as plt\n",
    "metrics.ConfusionMatrixDisplay.from_predictions(y_test, y_test_hat,labels=[True,False],colorbar=False) \n",
    "plt.xlabel('Predicted')\n",
    "plt.ylabel('Actual')\n",
    "plt.title('Testing test')\n",
    "plt.show()"
   ]
  }
 ],
 "metadata": {
  "kernelspec": {
   "display_name": "Python 3",
   "language": "python",
   "name": "python3"
  },
  "language_info": {
   "codemirror_mode": {
    "name": "ipython",
    "version": 3
   },
   "file_extension": ".py",
   "mimetype": "text/x-python",
   "name": "python",
   "nbconvert_exporter": "python",
   "pygments_lexer": "ipython3",
   "version": "3.12.0"
  }
 },
 "nbformat": 4,
 "nbformat_minor": 2
}
