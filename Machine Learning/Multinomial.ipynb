{
 "cells": [
  {
   "cell_type": "code",
   "execution_count": 6,
   "metadata": {},
   "outputs": [
    {
     "name": "stdout",
     "output_type": "stream",
     "text": [
      "(4, 9) (4,)\n",
      "(3, 9) (3,)\n"
     ]
    }
   ],
   "source": [
    "# training set\n",
    "d1 =[2,1,1,0,0,0,0,0,0]\n",
    "d2 =[1,1,0,1,1,0,0,0,0]\n",
    "d3 =[0,1,0,0,1,1,0,0,0]\n",
    "d4 =[0,1,0,0,0,0,1,1,1]\n",
    "import numpy as np\n",
    "X = np.array([d1,d2,d3,d4])\n",
    "y = np.array(['bac','bac','bac','nam'])\n",
    "print(X.shape, y.shape)\n",
    "#testing set\n",
    "d5 =[2,0,0,1,0,0,0,1,0]\n",
    "d6 =[1,1,0,1,0,0,1,1,1]\n",
    "d7 =[0,2,1,0,0,1,0,1,1]\n",
    "X_test = np.array([d5,d6,d7])\n",
    "y_test = np.array(['bac','nam','nam'])\n",
    "print(X_test.shape, y_test.shape)"
   ]
  },
  {
   "cell_type": "code",
   "execution_count": 7,
   "metadata": {},
   "outputs": [
    {
     "name": "stdout",
     "output_type": "stream",
     "text": [
      "['bac' 'nam' 'nam']\n",
      "1.0\n",
      "[[0.89548823 0.10451177]\n",
      " [0.31153817 0.68846183]\n",
      " [0.47507297 0.52492703]]\n"
     ]
    }
   ],
   "source": [
    "# training\n",
    "from sklearn import naive_bayes\n",
    "model = naive_bayes.MultinomialNB()\n",
    "model.fit(X, y)\n",
    "# evaluation\n",
    "from sklearn import metrics\n",
    "y_test_hat = model.predict(X_test)\n",
    "print(y_test_hat)\n",
    "print(metrics.accuracy_score(y_test, y_test_hat))\n",
    "print(model.predict_proba(X_test))"
   ]
  },
  {
   "cell_type": "code",
   "execution_count": 8,
   "metadata": {},
   "outputs": [
    {
     "data": {
      "image/png": "[encoded data removed]",
      "text/plain": [
       "<Figure size 640x480 with 1 Axes>"
      ]
     },
     "metadata": {},
     "output_type": "display_data"
    }
   ],
   "source": [
    "# visualization\n",
    "import matplotlib.pyplot as plt\n",
    "metrics.ConfusionMatrixDisplay.from_predictions(y_test, y_test_hat, labels=['bac','nam'],colorbar=False)\n",
    "plt.xlabel('Predicted')\n",
    "plt.ylabel('Actual')\n",
    "plt.title('Testing set')\n",
    "plt.show() "
   ]
  }
 ],
 "metadata": {
  "kernelspec": {
   "display_name": "Python 3",
   "language": "python",
   "name": "python3"
  },
  "language_info": {
   "codemirror_mode": {
    "name": "ipython",
    "version": 3
   },
   "file_extension": ".py",
   "mimetype": "text/x-python",
   "name": "python",
   "nbconvert_exporter": "python",
   "pygments_lexer": "ipython3",
   "version": "3.12.0"
  }
 },
 "nbformat": 4,
 "nbformat_minor": 2
}
