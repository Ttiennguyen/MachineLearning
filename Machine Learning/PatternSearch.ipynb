{
 "cells": [
  {
   "cell_type": "code",
   "execution_count": 1,
   "metadata": {},
   "outputs": [
    {
     "name": "stdout",
     "output_type": "stream",
     "text": [
      "Collecting apyori\n",
      "  Downloading apyori-1.1.2.tar.gz (8.6 kB)\n",
      "  Preparing metadata (setup.py) ... \u001b[?25ldone\n",
      "\u001b[?25hBuilding wheels for collected packages: apyori\n",
      "  Building wheel for apyori (setup.py) ... \u001b[?25ldone\n",
      "\u001b[?25h  Created wheel for apyori: filename=apyori-1.1.2-py3-none-any.whl size=5953 sha256=8d36dfd450567bda7e14a3bc42d4d8bb332d2d6331e80a936ce38fc749387521\n",
      "  Stored in directory: /Users/nguyentien/Library/Caches/pip/wheels/7f/49/e3/42c73b19a264de37129fadaa0c52f26cf50e87de08fb9804af\n",
      "Successfully built apyori\n",
      "Installing collected packages: apyori\n",
      "Successfully installed apyori-1.1.2\n"
     ]
    }
   ],
   "source": [
    "# install library\n",
    "!pip install apyori"
   ]
  },
  {
   "cell_type": "code",
   "execution_count": 3,
   "metadata": {},
   "outputs": [
    {
     "name": "stdout",
     "output_type": "stream",
     "text": [
      "[RelationRecord(items=frozenset({'A', 'B'}), support=0.6, ordered_statistics=[OrderedStatistic(items_base=frozenset({'A'}), items_add=frozenset({'B'}), confidence=0.7499999999999999, lift=0.9374999999999998), OrderedStatistic(items_base=frozenset({'B'}), items_add=frozenset({'A'}), confidence=0.7499999999999999, lift=0.9374999999999998)]), RelationRecord(items=frozenset({'F', 'A'}), support=0.4, ordered_statistics=[OrderedStatistic(items_base=frozenset({'F'}), items_add=frozenset({'A'}), confidence=1.0, lift=1.25)]), RelationRecord(items=frozenset({'B', 'C'}), support=0.4, ordered_statistics=[OrderedStatistic(items_base=frozenset({'C'}), items_add=frozenset({'B'}), confidence=1.0, lift=1.25)])]\n"
     ]
    },
    {
     "data": {
      "text/html": [
       "<div>\n",
       "<style scoped>\n",
       "    .dataframe tbody tr th:only-of-type {\n",
       "        vertical-align: middle;\n",
       "    }\n",
       "\n",
       "    .dataframe tbody tr th {\n",
       "        vertical-align: top;\n",
       "    }\n",
       "\n",
       "    .dataframe thead th {\n",
       "        text-align: right;\n",
       "    }\n",
       "</style>\n",
       "<table border=\"1\" class=\"dataframe\">\n",
       "  <thead>\n",
       "    <tr style=\"text-align: right;\">\n",
       "      <th></th>\n",
       "      <th>items</th>\n",
       "      <th>support</th>\n",
       "      <th>ordered_statistics</th>\n",
       "    </tr>\n",
       "  </thead>\n",
       "  <tbody>\n",
       "    <tr>\n",
       "      <th>0</th>\n",
       "      <td>(A, B)</td>\n",
       "      <td>0.6</td>\n",
       "      <td>[((A), (B), 0.7499999999999999, 0.937499999999...</td>\n",
       "    </tr>\n",
       "    <tr>\n",
       "      <th>1</th>\n",
       "      <td>(F, A)</td>\n",
       "      <td>0.4</td>\n",
       "      <td>[((F), (A), 1.0, 1.25)]</td>\n",
       "    </tr>\n",
       "    <tr>\n",
       "      <th>2</th>\n",
       "      <td>(B, C)</td>\n",
       "      <td>0.4</td>\n",
       "      <td>[((C), (B), 1.0, 1.25)]</td>\n",
       "    </tr>\n",
       "  </tbody>\n",
       "</table>\n",
       "</div>"
      ],
      "text/plain": [
       "    items  support                                 ordered_statistics\n",
       "0  (A, B)      0.6  [((A), (B), 0.7499999999999999, 0.937499999999...\n",
       "1  (F, A)      0.4                            [((F), (A), 1.0, 1.25)]\n",
       "2  (B, C)      0.4                            [((C), (B), 1.0, 1.25)]"
      ]
     },
     "execution_count": 3,
     "metadata": {},
     "output_type": "execute_result"
    }
   ],
   "source": [
    "# transaction\n",
    "txt1 = ['A','B','C','D','E']\n",
    "txt2 = ['B','C']\n",
    "txt3 = ['A','B','F']\n",
    "txt4 = ['A','B','G']\n",
    "txt5 = ['A','F','H']\n",
    "\n",
    "transactions = [txt1, txt2, txt3, txt4, txt5]\n",
    "# association rules \n",
    "from apyori import apriori\n",
    "frequent_items = apriori(transactions, min_support=0.4, min_confidence=0.7)\n",
    "ass_rules = list(frequent_items)\n",
    "# min length =2\n",
    "results = list(filter(lambda x: len(x.items)>1, ass_rules))\n",
    "print(results)\n",
    "# transfer the list \n",
    "import pandas as pd\n",
    "pd.DataFrame(results)"
   ]
  }
 ],
 "metadata": {
  "kernelspec": {
   "display_name": "Python 3",
   "language": "python",
   "name": "python3"
  },
  "language_info": {
   "codemirror_mode": {
    "name": "ipython",
    "version": 3
   },
   "file_extension": ".py",
   "mimetype": "text/x-python",
   "name": "python",
   "nbconvert_exporter": "python",
   "pygments_lexer": "ipython3",
   "version": "3.12.0"
  }
 },
 "nbformat": 4,
 "nbformat_minor": 2
}
