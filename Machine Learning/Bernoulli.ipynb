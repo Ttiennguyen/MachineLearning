{
 "cells": [
  {
   "cell_type": "code",
   "execution_count": 1,
   "metadata": {},
   "outputs": [
    {
     "name": "stdout",
     "output_type": "stream",
     "text": [
      "(10, 5) (10,)\n",
      "(3, 5) (3,)\n"
     ]
    }
   ],
   "source": [
    "# Dữ liệu cho mỗi email\n",
    "e1 = [1, 1, 0, 1, 0]\n",
    "e2 = [0, 1, 1, 0, 0]\n",
    "e3 = [1, 0, 1, 0, 1]\n",
    "e4 = [1, 1, 1, 1, 0]\n",
    "e5 = [0, 1, 0, 1, 0]\n",
    "e6 = [0, 0, 0, 1, 1]\n",
    "e7 = [0, 1, 0, 0, 0]\n",
    "e8 = [1, 1, 0, 1, 0]\n",
    "e9 = [0, 0, 1, 1, 1]\n",
    "e10 = [1, 0, 1, 0, 1]\n",
    "import numpy as np\n",
    "X = np.array([e1, e2, e3, e4, e5, e6, e7, e8, e9, e10])\n",
    "y = np.array(['no', 'no', 'yes', 'yes', 'yes', 'no', 'yes', 'yes', 'no', 'yes'])\n",
    "print(X.shape,y.shape)\n",
    "#testing set\n",
    "e11 = [1, 0, 0, 1, 1]\n",
    "e12 = [0, 1, 1, 1, 0]\n",
    "e13 = [1, 0, 1, 1, 0]\n",
    "X_test = np.array([e11, e12, e13])\n",
    "y_test = np.array(['yes', 'no', 'yes'])\n",
    "print(X_test.shape,y_test.shape)"
   ]
  },
  {
   "cell_type": "code",
   "execution_count": 2,
   "metadata": {},
   "outputs": [
    {
     "name": "stdout",
     "output_type": "stream",
     "text": [
      "['yes' 'no' 'yes']\n",
      "1.0\n",
      "[[0.45762712 0.54237288]\n",
      " [0.55862069 0.44137931]\n",
      " [0.2967033  0.7032967 ]]\n"
     ]
    }
   ],
   "source": [
    "#training \n",
    "from sklearn import naive_bayes\n",
    "model = naive_bayes.BernoulliNB(alpha=0)\n",
    "model.fit(X,y)\n",
    "#evaluation\n",
    "from sklearn import metrics\n",
    "y_test_hat = model.predict(X_test)\n",
    "print(y_test_hat)\n",
    "print(metrics.accuracy_score(y_test,y_test_hat))\n",
    "print(model.predict_proba(X_test))\n"
   ]
  },
  {
   "cell_type": "code",
   "execution_count": 3,
   "metadata": {},
   "outputs": [
    {
     "data": {
      "image/png": "[encoded data removed]",
      "text/plain": [
       "<Figure size 640x480 with 1 Axes>"
      ]
     },
     "metadata": {},
     "output_type": "display_data"
    }
   ],
   "source": [
    "# visualization\n",
    "import matplotlib.pyplot as plt\n",
    "metrics.ConfusionMatrixDisplay.from_predictions(y_test, y_test_hat, labels=['yes','no'],colorbar=False)\n",
    "plt.xlabel('Predicted')\n",
    "plt.ylabel('Actual')\n",
    "plt.title('Testing set')\n",
    "plt.show() "
   ]
  }
 ],
 "metadata": {
  "kernelspec": {
   "display_name": "Python 3",
   "language": "python",
   "name": "python3"
  },
  "language_info": {
   "codemirror_mode": {
    "name": "ipython",
    "version": 3
   },
   "file_extension": ".py",
   "mimetype": "text/x-python",
   "name": "python",
   "nbconvert_exporter": "python",
   "pygments_lexer": "ipython3",
   "version": "3.12.0"
  }
 },
 "nbformat": 4,
 "nbformat_minor": 2
}
